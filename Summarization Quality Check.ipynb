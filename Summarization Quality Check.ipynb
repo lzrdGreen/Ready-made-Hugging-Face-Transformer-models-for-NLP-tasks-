{
 "cells": [
  {
   "cell_type": "markdown",
   "id": "79ac0aa4",
   "metadata": {},
   "source": [
    "### Is t5-base summary good enough?"
   ]
  },
  {
   "cell_type": "markdown",
   "id": "f1356bcf",
   "metadata": {},
   "source": [
    "It is not easy to say/ measure if a summary produced by a model is good or not. I am going to try to automatically summarize a text for which human produced summary is available. Let's try this text from a website http://explainwell.org/index.php/table-of-contents-synthesize-text/examples-of-summaries/"
   ]
  },
  {
   "cell_type": "code",
   "execution_count": 1,
   "id": "0be18349",
   "metadata": {},
   "outputs": [
    {
     "data": {
      "text/plain": [
       "'Johannes Gutenberg (1398 – 1468) was a German goldsmith and publisher who introduced printing to Europe. His introduction of mechanical movable type printing to Europe started the Printing Revolution and is widely regarded as the most important event of the modern period. It played a key role in the scientific revolution and laid the basis for the modern knowledge-based economy and the spread of learning to the masses.\\n\\nGutenberg many contributions to printing are: the invention of a process for mass-producing movable type, the use of oil-based ink for printing books, adjustable molds, and the use of a wooden printing press. His truly epochal invention was the combination of these elements into a practical system that allowed the mass production of printed books and was economically viable for printers and readers alike.\\n\\nIn Renaissance Europe, the arrival of mechanical movable type printing introduced the era of mass communication which permanently altered the structure of society. The relatively unrestricted circulation of information—including revolutionary ideas—transcended borders, and captured the masses in the Reformation. The sharp increase in literacy broke the monopoly of the literate elite on education and learning and bolstered the emerging middle class.'"
      ]
     },
     "execution_count": 1,
     "metadata": {},
     "output_type": "execute_result"
    }
   ],
   "source": [
    "ARTICLE = \"\"\"Johannes Gutenberg (1398 – 1468) was a German goldsmith and publisher who introduced printing to Europe. His introduction of mechanical movable type printing to Europe started the Printing Revolution and is widely regarded as the most important event of the modern period. It played a key role in the scientific revolution and laid the basis for the modern knowledge-based economy and the spread of learning to the masses.\n",
    "\n",
    "Gutenberg many contributions to printing are: the invention of a process for mass-producing movable type, the use of oil-based ink for printing books, adjustable molds, and the use of a wooden printing press. His truly epochal invention was the combination of these elements into a practical system that allowed the mass production of printed books and was economically viable for printers and readers alike.\n",
    "\n",
    "In Renaissance Europe, the arrival of mechanical movable type printing introduced the era of mass communication which permanently altered the structure of society. The relatively unrestricted circulation of information—including revolutionary ideas—transcended borders, and captured the masses in the Reformation. The sharp increase in literacy broke the monopoly of the literate elite on education and learning and bolstered the emerging middle class.\"\"\"\n",
    "ARTICLE"
   ]
  },
  {
   "cell_type": "markdown",
   "id": "4d10efc5",
   "metadata": {},
   "source": [
    "The human produced summary:"
   ]
  },
  {
   "cell_type": "code",
   "execution_count": 2,
   "id": "3003e3a3",
   "metadata": {},
   "outputs": [],
   "source": [
    "sumRef =\"\"\"The German Johannes Gutenberg introduced printing in Europe. His invention had a decisive contribution in spread of mass-learning and in building the basis of the modern society.\n",
    "\n",
    "Gutenberg major invention was a practical system permitting the mass production of printed books. The printed books allowed open circulation of information, and prepared the evolution of society from to the contemporary knowledge-based economy.\"\"\""
   ]
  },
  {
   "cell_type": "code",
   "execution_count": 3,
   "id": "80786fa3",
   "metadata": {},
   "outputs": [
    {
     "data": {
      "text/plain": [
       "'The German Johannes Gutenberg introduced printing in Europe. His invention had a decisive contribution in spread of mass-learning and in building the basis of the modern society.\\n\\nGutenberg major invention was a practical system permitting the mass production of printed books. The printed books allowed open circulation of information, and prepared the evolution of society from to the contemporary knowledge-based economy.'"
      ]
     },
     "execution_count": 3,
     "metadata": {},
     "output_type": "execute_result"
    }
   ],
   "source": [
    "sumRef"
   ]
  },
  {
   "cell_type": "code",
   "execution_count": 4,
   "id": "5a9f3c35",
   "metadata": {},
   "outputs": [],
   "source": [
    "# some pre-processing:\n",
    "ARTICLE = ARTICLE.replace('.', '.<eos>')\n",
    "ARTICLE = ARTICLE.replace('?', '?<eos>')\n",
    "ARTICLE = ARTICLE.replace('!', '!<eos>')"
   ]
  },
  {
   "cell_type": "code",
   "execution_count": 5,
   "id": "2e172d3e",
   "metadata": {},
   "outputs": [
    {
     "name": "stderr",
     "output_type": "stream",
     "text": [
      "C:\\Users\\Asus\\anaconda3\\envs\\torch\\lib\\site-packages\\transformers\\models\\auto\\modeling_auto.py:898: FutureWarning: The class `AutoModelWithLMHead` is deprecated and will be removed in a future version. Please use `AutoModelForCausalLM` for causal language models, `AutoModelForMaskedLM` for masked language models and `AutoModelForSeq2SeqLM` for encoder-decoder models.\n",
      "  warnings.warn(\n"
     ]
    }
   ],
   "source": [
    "# now the model witha tokenizer:\n",
    "from transformers import AutoTokenizer, AutoModelWithLMHead\n",
    "\n",
    "tokenizer = AutoTokenizer.from_pretrained('t5-base')\n",
    "model = AutoModelWithLMHead.from_pretrained('t5-base', return_dict=True)"
   ]
  },
  {
   "cell_type": "code",
   "execution_count": 6,
   "id": "cb9879a2",
   "metadata": {},
   "outputs": [],
   "source": [
    "# tokenize the input text, ARTICLE:\n",
    "inputs = tokenizer.encode(\"summarize: \" + ARTICLE, return_tensors='pt', max_length=512, truncation=True)"
   ]
  },
  {
   "cell_type": "code",
   "execution_count": 7,
   "id": "c2634626",
   "metadata": {},
   "outputs": [
    {
     "name": "stderr",
     "output_type": "stream",
     "text": [
      "C:\\Users\\Asus\\anaconda3\\envs\\torch\\lib\\site-packages\\torch\\_tensor.py:575: UserWarning: floor_divide is deprecated, and will be removed in a future version of pytorch. It currently rounds toward 0 (like the 'trunc' function NOT 'floor'). This results in incorrect rounding for negative values.\n",
      "To keep the current behavior, use torch.div(a, b, rounding_mode='trunc'), or for actual floor division, use torch.div(a, b, rounding_mode='floor'). (Triggered internally at  ..\\aten\\src\\ATen\\native\\BinaryOps.cpp:467.)\n",
      "  return torch.floor_divide(self, other)\n"
     ]
    },
    {
     "data": {
      "text/plain": [
       "'<pad> Johannes Gutenberg was a goldsmith and publisher who introduced printing to Europe. his introduction of mechanical movable type printing to Europe started the Printing Revolution. it played a key role in the scientific revolution and laid the basis for the modern knowledge-based economy.</s>'"
      ]
     },
     "execution_count": 7,
     "metadata": {},
     "output_type": "execute_result"
    }
   ],
   "source": [
    "# now generate the summary:\n",
    "summary_ids = model.generate(inputs, max_length=75, min_length=50, length_penalty=1., num_beams=3)\n",
    "summary = tokenizer.decode(summary_ids[0])\n",
    "summary"
   ]
  },
  {
   "cell_type": "markdown",
   "id": "00c4f85f",
   "metadata": {},
   "source": [
    "To see if the summary produced by t5-base model says the same as the reference (human-produced) summary, I'll use a trick - compare the two summaries if one is a paraphrase of another. This is not exactly the same but that model produces a score (from 0 to 1) which indicates how one text is close to another."
   ]
  },
  {
   "cell_type": "code",
   "execution_count": 8,
   "id": "9709eea2",
   "metadata": {},
   "outputs": [],
   "source": [
    "from transformers import AutoTokenizer, AutoModelForSequenceClassification\n",
    "import torch"
   ]
  },
  {
   "cell_type": "code",
   "execution_count": 9,
   "id": "3a606163",
   "metadata": {},
   "outputs": [],
   "source": [
    "tokenizer1 = AutoTokenizer.from_pretrained(\"bert-base-cased-finetuned-mrpc\")\n",
    "model1 = AutoModelForSequenceClassification.from_pretrained(\"bert-base-cased-finetuned-mrpc\")"
   ]
  },
  {
   "cell_type": "code",
   "execution_count": 10,
   "id": "231309b6",
   "metadata": {},
   "outputs": [],
   "source": [
    "sequence_0 = summary\n",
    "sequence_1 = sumRef\n",
    "classes = [\"not paraphrase\", \"is paraphrase\"]"
   ]
  },
  {
   "cell_type": "code",
   "execution_count": 11,
   "id": "10fbff2f",
   "metadata": {},
   "outputs": [
    {
     "name": "stdout",
     "output_type": "stream",
     "text": [
      "not paraphrase: 91%\n",
      "is paraphrase: 9%\n"
     ]
    }
   ],
   "source": [
    "paraphrase = tokenizer1(sequence_0, sequence_1, return_tensors=\"pt\")\n",
    "paraphrase_classification_logits = model1(**paraphrase).logits\n",
    "paraphrase_results = torch.softmax(paraphrase_classification_logits, dim=1).tolist()[0]\n",
    "for i in range(len(classes)):\n",
    "    print(f\"{classes[i]}: {int(round(paraphrase_results[i] * 100))}%\")"
   ]
  },
  {
   "cell_type": "markdown",
   "id": "cb92e4c1",
   "metadata": {},
   "source": [
    "Not very close."
   ]
  },
  {
   "cell_type": "markdown",
   "id": "06f9bcfc",
   "metadata": {},
   "source": [
    "###  Pipeline summarizer"
   ]
  },
  {
   "cell_type": "markdown",
   "id": "3bf773ca",
   "metadata": {},
   "source": [
    "Let's try a summarizer from Hugging Face pipelines functions:"
   ]
  },
  {
   "cell_type": "code",
   "execution_count": 12,
   "id": "d3f71f26",
   "metadata": {},
   "outputs": [
    {
     "name": "stderr",
     "output_type": "stream",
     "text": [
      "C:\\Users\\Asus\\anaconda3\\envs\\torch\\lib\\site-packages\\torchaudio\\backend\\utils.py:67: UserWarning: No audio backend is available.\n",
      "  warnings.warn('No audio backend is available.')\n"
     ]
    }
   ],
   "source": [
    "from transformers import pipeline\n",
    "summarizer = pipeline(\"summarization\")"
   ]
  },
  {
   "cell_type": "code",
   "execution_count": 14,
   "id": "7e13900b",
   "metadata": {},
   "outputs": [],
   "source": [
    "result = summarizer(ARTICLE, max_length=75, min_length=50, do_sample=False)"
   ]
  },
  {
   "cell_type": "code",
   "execution_count": 18,
   "id": "1f677010",
   "metadata": {},
   "outputs": [],
   "source": [
    "summaryPL = result[0]['summary_text']"
   ]
  },
  {
   "cell_type": "code",
   "execution_count": 19,
   "id": "0d991834",
   "metadata": {},
   "outputs": [
    {
     "data": {
      "text/plain": [
       "' Johannes Gutenberg (1398 – 1468) was a German goldsmith and publisher who introduced printing to Europe . Gutenberg many contributions to printing are: the invention of a process for mass-producing movable type, the use of oil-based ink for printing books, adjustable molds, and use of a wooden printing press .'"
      ]
     },
     "execution_count": 19,
     "metadata": {},
     "output_type": "execute_result"
    }
   ],
   "source": [
    "summaryPL"
   ]
  },
  {
   "cell_type": "code",
   "execution_count": 20,
   "id": "769f96cb",
   "metadata": {},
   "outputs": [],
   "source": [
    "sequence_0 = summaryPL\n",
    "sequence_1 = sumRef"
   ]
  },
  {
   "cell_type": "code",
   "execution_count": 21,
   "id": "4243e3e6",
   "metadata": {},
   "outputs": [
    {
     "name": "stdout",
     "output_type": "stream",
     "text": [
      "not paraphrase: 95%\n",
      "is paraphrase: 5%\n"
     ]
    }
   ],
   "source": [
    "paraphrase = tokenizer1(sequence_0, sequence_1, return_tensors=\"pt\")\n",
    "paraphrase_classification_logits = model1(**paraphrase).logits\n",
    "paraphrase_results = torch.softmax(paraphrase_classification_logits, dim=1).tolist()[0]\n",
    "for i in range(len(classes)):\n",
    "    print(f\"{classes[i]}: {int(round(paraphrase_results[i] * 100))}%\")"
   ]
  },
  {
   "cell_type": "markdown",
   "id": "d5b50794",
   "metadata": {},
   "source": [
    "The score is even less."
   ]
  },
  {
   "cell_type": "code",
   "execution_count": 22,
   "id": "5551d886",
   "metadata": {},
   "outputs": [],
   "source": [
    "# compare the two automatically produced summaries - for completeness:\n",
    "sequence_0 = summaryPL\n",
    "sequence_1 = summary"
   ]
  },
  {
   "cell_type": "code",
   "execution_count": 23,
   "id": "1611c6e3",
   "metadata": {},
   "outputs": [
    {
     "name": "stdout",
     "output_type": "stream",
     "text": [
      "not paraphrase: 95%\n",
      "is paraphrase: 5%\n"
     ]
    }
   ],
   "source": [
    "paraphrase = tokenizer1(sequence_0, sequence_1, return_tensors=\"pt\")\n",
    "paraphrase_classification_logits = model1(**paraphrase).logits\n",
    "paraphrase_results = torch.softmax(paraphrase_classification_logits, dim=1).tolist()[0]\n",
    "for i in range(len(classes)):\n",
    "    print(f\"{classes[i]}: {int(round(paraphrase_results[i] * 100))}%\")"
   ]
  },
  {
   "cell_type": "markdown",
   "id": "aa8c0ce6",
   "metadata": {},
   "source": [
    "But wait, t5 summarizer allows us to use more beams (I used 3), let's try 9 beams:"
   ]
  },
  {
   "cell_type": "code",
   "execution_count": 24,
   "id": "2904fc7b",
   "metadata": {},
   "outputs": [
    {
     "data": {
      "text/plain": [
       "'<pad> Johannes Gutenberg (1398 – 1468) was a german goldsmith and publisher who introduced printing to Europe. his introduction of mechanical movable type printing to Europe started the Printing Revolution. it played a key role in the scientific revolution and laid the basis for the modern knowledge-based economy.</s>'"
      ]
     },
     "execution_count": 24,
     "metadata": {},
     "output_type": "execute_result"
    }
   ],
   "source": [
    "inputs = tokenizer.encode(\"summarize: \" + ARTICLE, return_tensors='pt', max_length=512, truncation=True)\n",
    "summary_ids = model.generate(inputs, max_length=75, min_length=50, length_penalty=1., num_beams=9)\n",
    "summary = tokenizer.decode(summary_ids[0])\n",
    "summary"
   ]
  },
  {
   "cell_type": "markdown",
   "id": "5484f3e0",
   "metadata": {},
   "source": [
    "Very little change: it added years of birth and death. Let's see the paraphrase score if it changed:"
   ]
  },
  {
   "cell_type": "code",
   "execution_count": 26,
   "id": "15eb2807",
   "metadata": {},
   "outputs": [],
   "source": [
    "sequence_0 = summary\n",
    "sequence_1 = sumRef"
   ]
  },
  {
   "cell_type": "code",
   "execution_count": 27,
   "id": "a3c0b73a",
   "metadata": {},
   "outputs": [
    {
     "name": "stdout",
     "output_type": "stream",
     "text": [
      "not paraphrase: 95%\n",
      "is paraphrase: 5%\n"
     ]
    }
   ],
   "source": [
    "paraphrase = tokenizer1(sequence_0, sequence_1, return_tensors=\"pt\")\n",
    "paraphrase_classification_logits = model1(**paraphrase).logits\n",
    "paraphrase_results = torch.softmax(paraphrase_classification_logits, dim=1).tolist()[0]\n",
    "for i in range(len(classes)):\n",
    "    print(f\"{classes[i]}: {int(round(paraphrase_results[i] * 100))}%\")"
   ]
  },
  {
   "cell_type": "markdown",
   "id": "70c34eb0",
   "metadata": {},
   "source": [
    "Now it dropped the score for a more accurate summary from 9% to 5%...OK"
   ]
  },
  {
   "cell_type": "code",
   "execution_count": 28,
   "id": "4da58664",
   "metadata": {},
   "outputs": [],
   "source": [
    "# let's compare a summary to the original article:\n",
    "sequence_0 = summary\n",
    "sequence_1 = ARTICLE"
   ]
  },
  {
   "cell_type": "code",
   "execution_count": 29,
   "id": "5fa96d71",
   "metadata": {},
   "outputs": [
    {
     "name": "stdout",
     "output_type": "stream",
     "text": [
      "not paraphrase: 95%\n",
      "is paraphrase: 5%\n"
     ]
    }
   ],
   "source": [
    "paraphrase = tokenizer1(sequence_0, sequence_1, return_tensors=\"pt\")\n",
    "paraphrase_classification_logits = model1(**paraphrase).logits\n",
    "paraphrase_results = torch.softmax(paraphrase_classification_logits, dim=1).tolist()[0]\n",
    "for i in range(len(classes)):\n",
    "    print(f\"{classes[i]}: {int(round(paraphrase_results[i] * 100))}%\")"
   ]
  },
  {
   "cell_type": "markdown",
   "id": "a2a5e170",
   "metadata": {},
   "source": [
    "Still, anyone can read all the versions and decide for themselves if an automatically produced summary is good enough."
   ]
  },
  {
   "cell_type": "code",
   "execution_count": null,
   "id": "fe531cb8",
   "metadata": {},
   "outputs": [],
   "source": []
  }
 ],
 "metadata": {
  "kernelspec": {
   "display_name": "Python 3",
   "language": "python",
   "name": "python3"
  },
  "language_info": {
   "codemirror_mode": {
    "name": "ipython",
    "version": 3
   },
   "file_extension": ".py",
   "mimetype": "text/x-python",
   "name": "python",
   "nbconvert_exporter": "python",
   "pygments_lexer": "ipython3",
   "version": "3.8.8"
  }
 },
 "nbformat": 4,
 "nbformat_minor": 5
}
