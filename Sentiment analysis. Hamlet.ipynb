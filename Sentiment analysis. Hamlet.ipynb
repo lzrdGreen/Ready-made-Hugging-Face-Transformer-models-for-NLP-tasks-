{
 "cells": [
  {
   "cell_type": "code",
   "execution_count": 1,
   "id": "d67c45dc",
   "metadata": {},
   "outputs": [
    {
     "name": "stderr",
     "output_type": "stream",
     "text": [
      "C:\\Users\\Asus\\anaconda3\\envs\\torch\\lib\\site-packages\\torchaudio\\backend\\utils.py:67: UserWarning: No audio backend is available.\n",
      "  warnings.warn('No audio backend is available.')\n"
     ]
    }
   ],
   "source": [
    "from transformers import pipeline"
   ]
  },
  {
   "cell_type": "code",
   "execution_count": 2,
   "id": "4aae762f",
   "metadata": {},
   "outputs": [],
   "source": [
    "classifier = pipeline('sentiment-analysis')"
   ]
  },
  {
   "cell_type": "markdown",
   "id": "01016de5",
   "metadata": {},
   "source": [
    "Sentiment analysis is probably the simplest task in NLP, I use it as recommended by Hugging Face \"Summary of the tasks\", section \"Sequence Classification\":"
   ]
  },
  {
   "cell_type": "code",
   "execution_count": 3,
   "id": "a035e524",
   "metadata": {},
   "outputs": [
    {
     "data": {
      "text/plain": [
       "'To be, or not to be? That is the question—Whether ’tis nobler in the mind to suffer \\nThe slings and arrows of outrageous fortune, Or to take arms against a sea of troubles, And, by opposing, end them?\\n'"
      ]
     },
     "execution_count": 3,
     "metadata": {},
     "output_type": "execute_result"
    }
   ],
   "source": [
    "txt1 = \"\"\"To be, or not to be? That is the question—Whether ’tis nobler in the mind to suffer \n",
    "The slings and arrows of outrageous fortune, Or to take arms against a sea of troubles, And, by opposing, end them?\n",
    "\"\"\"\n",
    "txt1"
   ]
  },
  {
   "cell_type": "code",
   "execution_count": 4,
   "id": "fe8c0c03",
   "metadata": {},
   "outputs": [
    {
     "data": {
      "text/plain": [
       "[{'label': 'NEGATIVE', 'score': 0.9415651559829712}]"
      ]
     },
     "execution_count": 4,
     "metadata": {},
     "output_type": "execute_result"
    }
   ],
   "source": [
    "classifier(txt1)"
   ]
  },
  {
   "cell_type": "markdown",
   "id": "1fdc99cd",
   "metadata": {},
   "source": [
    "Quite expectedly, the model is very (94%) confident that Hamlet's suicide contemplations are negative."
   ]
  },
  {
   "cell_type": "code",
   "execution_count": 5,
   "id": "e7bce3ad",
   "metadata": {},
   "outputs": [
    {
     "data": {
      "text/plain": [
       "'To die, to sleep—No more—and by a sleep to say we end the heartache and the thousand natural shocks \\nthat flesh is heir to—’tis a consummation devoutly to be wished! To die, to sleep.\\n'"
      ]
     },
     "execution_count": 5,
     "metadata": {},
     "output_type": "execute_result"
    }
   ],
   "source": [
    "txt2 = \"\"\"To die, to sleep—No more—and by a sleep to say we end the heartache and the thousand natural shocks \n",
    "that flesh is heir to—’tis a consummation devoutly to be wished! To die, to sleep.\n",
    "\"\"\"\n",
    "txt2"
   ]
  },
  {
   "cell_type": "code",
   "execution_count": 6,
   "id": "d56538d7",
   "metadata": {},
   "outputs": [
    {
     "data": {
      "text/plain": [
       "[{'label': 'POSITIVE', 'score': 0.9891805648803711}]"
      ]
     },
     "execution_count": 6,
     "metadata": {},
     "output_type": "execute_result"
    }
   ],
   "source": [
    "classifier(txt2)"
   ]
  },
  {
   "cell_type": "markdown",
   "id": "d654ee61",
   "metadata": {},
   "source": [
    "According to https://scienceleadership.org/blog/shakespeare-to_be_or_not_to_be-analysis this part of the monologue says that death is just a dream - does this explain 99% certainty of positive label?"
   ]
  },
  {
   "cell_type": "code",
   "execution_count": 7,
   "id": "49aa1fdb",
   "metadata": {},
   "outputs": [
    {
     "data": {
      "text/plain": [
       "'To sleep, perchance to dream—ay, there’s the rub, for in that sleep of death what dreams may come \\nwhen we have shuffled off this mortal coil, must give us pause. There’s the respect that makes calamity of so long life.\\n'"
      ]
     },
     "execution_count": 7,
     "metadata": {},
     "output_type": "execute_result"
    }
   ],
   "source": [
    "txt3 = \"\"\"To sleep, perchance to dream—ay, there’s the rub, for in that sleep of death what dreams may come \n",
    "when we have shuffled off this mortal coil, must give us pause. There’s the respect that makes calamity of so long life.\n",
    "\"\"\"\n",
    "txt3"
   ]
  },
  {
   "cell_type": "code",
   "execution_count": 8,
   "id": "0d764601",
   "metadata": {},
   "outputs": [
    {
     "data": {
      "text/plain": [
       "[{'label': 'POSITIVE', 'score': 0.9518588185310364}]"
      ]
     },
     "execution_count": 8,
     "metadata": {},
     "output_type": "execute_result"
    }
   ],
   "source": [
    "classifier(txt3)"
   ]
  },
  {
   "cell_type": "markdown",
   "id": "04fb0289",
   "metadata": {},
   "source": [
    "In this part Hamlet seems to speak about the awful dreams that death-sleep promises. And this is still absolutely positive? Maybe the model knows that Hamlet fearing the dreams chooses life..."
   ]
  },
  {
   "cell_type": "code",
   "execution_count": null,
   "id": "8c126d29",
   "metadata": {},
   "outputs": [],
   "source": []
  }
 ],
 "metadata": {
  "kernelspec": {
   "display_name": "Python 3",
   "language": "python",
   "name": "python3"
  },
  "language_info": {
   "codemirror_mode": {
    "name": "ipython",
    "version": 3
   },
   "file_extension": ".py",
   "mimetype": "text/x-python",
   "name": "python",
   "nbconvert_exporter": "python",
   "pygments_lexer": "ipython3",
   "version": "3.8.8"
  }
 },
 "nbformat": 4,
 "nbformat_minor": 5
}
