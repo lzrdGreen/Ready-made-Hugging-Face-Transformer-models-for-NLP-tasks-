{
 "cells": [
  {
   "cell_type": "markdown",
   "id": "52308d46",
   "metadata": {},
   "source": [
    "Can a computer write? Something creative. \n",
    "\n",
    "The recent big news was the GPT3 model which is a bit difficult to access. It's also huge. Nicolas Renotte in his amazing video tells about its smaller sibling, Neo: https://www.youtube.com/watch?v=6MI0f6YjJIk (accompanied by a tutorial on github: https://github.com/nicknochnack/GPTNeo/blob/main/GPT%20Neo%20Tutorial.ipynb). Let's give it a try. One word of caution, the model may need several attempts to produce something really creative."
   ]
  },
  {
   "cell_type": "code",
   "execution_count": 1,
   "id": "30424c66",
   "metadata": {},
   "outputs": [
    {
     "name": "stderr",
     "output_type": "stream",
     "text": [
      "C:\\Users\\Asus\\anaconda3\\envs\\torch\\lib\\site-packages\\torchaudio\\backend\\utils.py:67: UserWarning: No audio backend is available.\n",
      "  warnings.warn('No audio backend is available.')\n"
     ]
    }
   ],
   "source": [
    "from transformers import pipeline"
   ]
  },
  {
   "cell_type": "code",
   "execution_count": 2,
   "id": "072e1db9",
   "metadata": {},
   "outputs": [],
   "source": [
    "generator = pipeline('text-generation', model='EleutherAI/gpt-neo-2.7B')"
   ]
  },
  {
   "cell_type": "markdown",
   "id": "ab8bec58",
   "metadata": {},
   "source": [
    "Let's start with a phrase which Dostoevsky used as a title for his novel:"
   ]
  },
  {
   "cell_type": "code",
   "execution_count": 3,
   "id": "eeb99f5b",
   "metadata": {},
   "outputs": [],
   "source": [
    "prompt = \"Crime and punishment\""
   ]
  },
  {
   "cell_type": "code",
   "execution_count": 11,
   "id": "7f0d125a",
   "metadata": {},
   "outputs": [
    {
     "name": "stderr",
     "output_type": "stream",
     "text": [
      "Setting `pad_token_id` to `eos_token_id`:50256 for open-end generation.\n"
     ]
    },
    {
     "name": "stdout",
     "output_type": "stream",
     "text": [
      "Crime and punishment\n",
      "\n",
      "Ricky Gervais, a British comedian and filmmaker best known for creating and starring in The Office, has made a series of films where he imagines what his life would be like on the run and with no past.\n"
     ]
    }
   ],
   "source": [
    "res = generator(prompt, max_length=50, do_sample=True, temperature=0.9)\n",
    "print(res[0]['generated_text'])"
   ]
  },
  {
   "cell_type": "code",
   "execution_count": 8,
   "id": "93a91d7f",
   "metadata": {},
   "outputs": [
    {
     "name": "stderr",
     "output_type": "stream",
     "text": [
      "Setting `pad_token_id` to `eos_token_id`:50256 for open-end generation.\n"
     ]
    },
    {
     "name": "stdout",
     "output_type": "stream",
     "text": [
      "Crime and punishment\n",
      "\n",
      "The death penalty was abolished in the United States in the year 2000 and has been replaced by a system of life imprisonment without the possibility of parole. The death penalty is only used in the United States when the offense is a homicide\n"
     ]
    }
   ],
   "source": [
    "res = generator(prompt, max_length=50, do_sample=True, temperature=0.5)\n",
    "print(res[0]['generated_text'])"
   ]
  },
  {
   "cell_type": "code",
   "execution_count": 9,
   "id": "a052ed04",
   "metadata": {},
   "outputs": [
    {
     "name": "stderr",
     "output_type": "stream",
     "text": [
      "Setting `pad_token_id` to `eos_token_id`:50256 for open-end generation.\n"
     ]
    },
    {
     "name": "stdout",
     "output_type": "stream",
     "text": [
      "Crime and punishment\n",
      "\n",
      "The death penalty is a legal punishment for a number of crimes. The death penalty is the most severe form of punishment in the United States, and is reserved for the most serious crimes. The death penalty is also used in other\n"
     ]
    }
   ],
   "source": [
    "res = generator(prompt, max_length=50, do_sample=True, temperature=0.1)\n",
    "print(res[0]['generated_text'])"
   ]
  },
  {
   "cell_type": "code",
   "execution_count": 14,
   "id": "71241e5b",
   "metadata": {},
   "outputs": [
    {
     "name": "stderr",
     "output_type": "stream",
     "text": [
      "Setting `pad_token_id` to `eos_token_id`:50256 for open-end generation.\n"
     ]
    },
    {
     "name": "stdout",
     "output_type": "stream",
     "text": [
      "Crime and punishment\n",
      "\n",
      "The death penalty is a legal punishment for a crime. The death penalty is the most severe form of punishment, and is reserved for the most serious crimes. The death penalty is also the most controversial form of punishment, and is\n"
     ]
    }
   ],
   "source": [
    "res = generator(prompt, max_length=50, do_sample=True, temperature=0.1)\n",
    "print(res[0]['generated_text'])"
   ]
  },
  {
   "cell_type": "code",
   "execution_count": 15,
   "id": "dc5e66d0",
   "metadata": {},
   "outputs": [
    {
     "name": "stderr",
     "output_type": "stream",
     "text": [
      "Setting `pad_token_id` to `eos_token_id`:50256 for open-end generation.\n"
     ]
    },
    {
     "name": "stdout",
     "output_type": "stream",
     "text": [
      "Crime and punishment\n",
      "\n",
      "\"I'm sorry, I'm not,\" I respond, and sit there staring into space.\n",
      "\n",
      "My brother is the one who is sorry. He looks at my shoes on the floor next to the couch and says,\n"
     ]
    }
   ],
   "source": [
    "res = generator(prompt, max_length=50, do_sample=True, temperature=0.99)\n",
    "print(res[0]['generated_text'])"
   ]
  },
  {
   "cell_type": "markdown",
   "id": "b8e5510b",
   "metadata": {},
   "source": [
    "Let's try some different prompt. We could vary the length of the generated sequence (# of words) but don't expect too much, long texts demand ages to get produced. No novels, just brief original phrases!"
   ]
  },
  {
   "cell_type": "code",
   "execution_count": 16,
   "id": "30956e64",
   "metadata": {},
   "outputs": [],
   "source": [
    "prompt = 'Practice makes perfect.' # Vince Lombardi"
   ]
  },
  {
   "cell_type": "code",
   "execution_count": 17,
   "id": "803183de",
   "metadata": {},
   "outputs": [
    {
     "name": "stderr",
     "output_type": "stream",
     "text": [
      "Setting `pad_token_id` to `eos_token_id`:50256 for open-end generation.\n"
     ]
    },
    {
     "name": "stdout",
     "output_type": "stream",
     "text": [
      "Practice makes perfect.\n",
      "\n",
      "It’s the mantra of most successful entrepreneurs, who have been able to take their ideas and turn them into a business that makes them money.\n",
      "\n",
      "In the world of start-ups, the “\n"
     ]
    }
   ],
   "source": [
    "res = generator(prompt, max_length=50, do_sample=True, temperature=0.9)\n",
    "print(res[0]['generated_text'])"
   ]
  },
  {
   "cell_type": "code",
   "execution_count": 18,
   "id": "4058f497",
   "metadata": {},
   "outputs": [
    {
     "name": "stderr",
     "output_type": "stream",
     "text": [
      "Setting `pad_token_id` to `eos_token_id`:50256 for open-end generation.\n"
     ]
    },
    {
     "name": "stdout",
     "output_type": "stream",
     "text": [
      "Practice makes perfect. Practice makes permanent. But what about all those times when you’re not practicing? For most of us, those are the times when we’re either too busy to do anything, or we’re not\n"
     ]
    }
   ],
   "source": [
    "res = generator(prompt, max_length=50, do_sample=True, temperature=0.5)\n",
    "print(res[0]['generated_text'])"
   ]
  },
  {
   "cell_type": "code",
   "execution_count": 23,
   "id": "79996690",
   "metadata": {},
   "outputs": [
    {
     "name": "stderr",
     "output_type": "stream",
     "text": [
      "Setting `pad_token_id` to `eos_token_id`:50256 for open-end generation.\n"
     ]
    },
    {
     "name": "stdout",
     "output_type": "stream",
     "text": [
      "Practice makes perfect.\n",
      "\n",
      "The best way to learn is to practice.\n",
      "\n",
      "The best way to learn is to practice.\n",
      "\n",
      "The best way to learn is to practice.\n",
      "\n",
      "The best way to learn is to practice.\n",
      "\n"
     ]
    }
   ],
   "source": [
    "res = generator(prompt, max_length=50, do_sample=True, temperature=0.1)\n",
    "print(res[0]['generated_text'])"
   ]
  },
  {
   "cell_type": "markdown",
   "id": "82acb552",
   "metadata": {},
   "source": [
    "Very repetitive - in earlier models this was a big issue!"
   ]
  },
  {
   "cell_type": "code",
   "execution_count": 22,
   "id": "d0cef968",
   "metadata": {},
   "outputs": [
    {
     "name": "stderr",
     "output_type": "stream",
     "text": [
      "Setting `pad_token_id` to `eos_token_id`:50256 for open-end generation.\n"
     ]
    },
    {
     "name": "stdout",
     "output_type": "stream",
     "text": [
      "Practice makes perfect. As children, my kids were encouraged to go to the dentist and get cavities filled. “You’ve always wanted to have a cavity filled, but here is your chance,” the dentist would say.\n"
     ]
    }
   ],
   "source": [
    "res = generator(prompt, max_length=50, do_sample=True, temperature=0.99)\n",
    "print(res[0]['generated_text'])"
   ]
  },
  {
   "cell_type": "markdown",
   "id": "0cfabbfb",
   "metadata": {},
   "source": [
    "The above text sounds silly...but it's still pretty human-like, isn't it?"
   ]
  },
  {
   "cell_type": "code",
   "execution_count": 24,
   "id": "f2b49ea3",
   "metadata": {},
   "outputs": [],
   "source": [
    "prompt = 'That which does not kill us makes us stronger.' # Friedrich Nietzsche"
   ]
  },
  {
   "cell_type": "code",
   "execution_count": 25,
   "id": "22efc924",
   "metadata": {},
   "outputs": [
    {
     "name": "stderr",
     "output_type": "stream",
     "text": [
      "Setting `pad_token_id` to `eos_token_id`:50256 for open-end generation.\n"
     ]
    },
    {
     "name": "stdout",
     "output_type": "stream",
     "text": [
      "That which does not kill us makes us stronger.  \n",
      "I believe I am one of the happy few who can live like this,  \n",
      "I can survive on this, and not need help from other people.\n",
      "\n",
      "#  **\n"
     ]
    }
   ],
   "source": [
    "res = generator(prompt, max_length=50, do_sample=True, temperature=0.9)\n",
    "print(res[0]['generated_text'])"
   ]
  },
  {
   "cell_type": "code",
   "execution_count": 26,
   "id": "9dd37339",
   "metadata": {},
   "outputs": [
    {
     "name": "stderr",
     "output_type": "stream",
     "text": [
      "Setting `pad_token_id` to `eos_token_id`:50256 for open-end generation.\n"
     ]
    },
    {
     "name": "stdout",
     "output_type": "stream",
     "text": [
      "That which does not kill us makes us stronger. ~Mahatma Gandhi\n",
      "\n",
      "The only thing to do is to prepare yourself – to be ready. ~Mahatma Gandhi\n",
      "\n",
      "When they asked Gandhi what he thought about the war, he\n"
     ]
    }
   ],
   "source": [
    "res = generator(prompt, max_length=50, do_sample=True, temperature=0.9)\n",
    "print(res[0]['generated_text'])"
   ]
  },
  {
   "cell_type": "markdown",
   "id": "c66665a2",
   "metadata": {},
   "source": [
    "Here the model dsiagrees with Google which claims it's Nietzsche who said this"
   ]
  },
  {
   "cell_type": "code",
   "execution_count": 27,
   "id": "608ee262",
   "metadata": {},
   "outputs": [
    {
     "name": "stderr",
     "output_type": "stream",
     "text": [
      "Setting `pad_token_id` to `eos_token_id`:50256 for open-end generation.\n"
     ]
    },
    {
     "name": "stdout",
     "output_type": "stream",
     "text": [
      "That which does not kill us makes us stronger.\n",
      "\n",
      "~ Mark Twain\n",
      "\n",
      "Tuesday, April 12, 2013\n",
      "\n",
      "The History of the Dictator\n",
      "\n",
      "I've been thinking about the dictator for a long time. I don't like\n"
     ]
    }
   ],
   "source": [
    "res = generator(prompt, max_length=50, do_sample=True, temperature=0.5)\n",
    "print(res[0]['generated_text'])"
   ]
  },
  {
   "cell_type": "code",
   "execution_count": 33,
   "id": "a2096664",
   "metadata": {},
   "outputs": [
    {
     "name": "stderr",
     "output_type": "stream",
     "text": [
      "Setting `pad_token_id` to `eos_token_id`:50256 for open-end generation.\n"
     ]
    },
    {
     "name": "stdout",
     "output_type": "stream",
     "text": [
      "That which does not kill us makes us stronger.\n",
      "\n",
      "I am not going to let you down.\n",
      "\n",
      "I am going to make you proud.\n",
      "\n",
      "I am going to make you proud.\n",
      "\n",
      "I am going to make you proud\n"
     ]
    }
   ],
   "source": [
    "res = generator(prompt, max_length=50, do_sample=True, temperature=0.5)\n",
    "print(res[0]['generated_text'])"
   ]
  },
  {
   "cell_type": "code",
   "execution_count": 29,
   "id": "2cc7cb2d",
   "metadata": {},
   "outputs": [
    {
     "name": "stderr",
     "output_type": "stream",
     "text": [
      "Setting `pad_token_id` to `eos_token_id`:50256 for open-end generation.\n"
     ]
    },
    {
     "name": "stdout",
     "output_type": "stream",
     "text": [
      "That which does not kill us makes us stronger.\n",
      "\n",
      "—Buddha\n",
      "\n",
      "The first time I saw the movie _The Matrix_ , I was in the middle of a class. I was in the middle of a class, and I\n"
     ]
    }
   ],
   "source": [
    "res = generator(prompt, max_length=50, do_sample=True, temperature=0.1)\n",
    "print(res[0]['generated_text'])"
   ]
  },
  {
   "cell_type": "code",
   "execution_count": 30,
   "id": "9cfca08c",
   "metadata": {},
   "outputs": [
    {
     "name": "stderr",
     "output_type": "stream",
     "text": [
      "Setting `pad_token_id` to `eos_token_id`:50256 for open-end generation.\n"
     ]
    },
    {
     "name": "stdout",
     "output_type": "stream",
     "text": [
      "That which does not kill us makes us stronger.\n",
      "\n",
      "—John F. Kennedy\n",
      "\n",
      "The first time I saw a shark, I was in the water with my father. He was a fisherman, and he was fishing for tuna. He was\n"
     ]
    }
   ],
   "source": [
    "res = generator(prompt, max_length=50, do_sample=True, temperature=0.1)\n",
    "print(res[0]['generated_text'])"
   ]
  },
  {
   "cell_type": "code",
   "execution_count": 31,
   "id": "a0e98b6a",
   "metadata": {},
   "outputs": [
    {
     "name": "stderr",
     "output_type": "stream",
     "text": [
      "Setting `pad_token_id` to `eos_token_id`:50256 for open-end generation.\n"
     ]
    },
    {
     "name": "stdout",
     "output_type": "stream",
     "text": [
      "That which does not kill us makes us stronger.\n",
      "Homo homini lupus \n",
      "Lupus: Latin for wolf, a common animal\n",
      "lupus: a type of lizard\n",
      "sapien: an old word for human\n"
     ]
    }
   ],
   "source": [
    "res = generator(prompt, max_length=50, do_sample=True, temperature=0.99)\n",
    "print(res[0]['generated_text'])"
   ]
  },
  {
   "cell_type": "code",
   "execution_count": 34,
   "id": "0ab64c5c",
   "metadata": {},
   "outputs": [],
   "source": [
    "prompt = \"Always deliver more than expected.\" # Larry Page"
   ]
  },
  {
   "cell_type": "code",
   "execution_count": 40,
   "id": "13d69d5b",
   "metadata": {},
   "outputs": [
    {
     "name": "stderr",
     "output_type": "stream",
     "text": [
      "Setting `pad_token_id` to `eos_token_id`:50256 for open-end generation.\n"
     ]
    },
    {
     "name": "stdout",
     "output_type": "stream",
     "text": [
      "Always deliver more than expected.\n",
      "\n",
      "A few months ago, in talking to friends about the new tax bill, I spoke of some issues that were important to me and that I wanted to make sure I got a vote for in my district. During\n"
     ]
    }
   ],
   "source": [
    "res = generator(prompt, max_length=50, do_sample=True, temperature=0.9)\n",
    "print(res[0]['generated_text'])"
   ]
  },
  {
   "cell_type": "code",
   "execution_count": 41,
   "id": "12e335e5",
   "metadata": {},
   "outputs": [
    {
     "name": "stderr",
     "output_type": "stream",
     "text": [
      "Setting `pad_token_id` to `eos_token_id`:50256 for open-end generation.\n"
     ]
    },
    {
     "name": "stdout",
     "output_type": "stream",
     "text": [
      "Always deliver more than expected.\n",
      "\n",
      "This post is a small sample of my previous blog posts. You can scroll to read the full blog post collection.\n",
      "\n",
      "Recently I noticed that a few of my webinar recordings were on autoplay, and\n"
     ]
    }
   ],
   "source": [
    "res = generator(prompt, max_length=50, do_sample=True, temperature=0.9)\n",
    "print(res[0]['generated_text'])"
   ]
  },
  {
   "cell_type": "code",
   "execution_count": 42,
   "id": "f047713d",
   "metadata": {},
   "outputs": [
    {
     "name": "stderr",
     "output_type": "stream",
     "text": [
      "Setting `pad_token_id` to `eos_token_id`:50256 for open-end generation.\n"
     ]
    },
    {
     "name": "stdout",
     "output_type": "stream",
     "text": [
      "Always deliver more than expected.\n",
      "\n",
      "“I’m not a big believer in the ‘Just Do It’ mentality,” says Mary Ellen, an assistant professor of organizational behavior at the University of Texas at Dallas. �\n"
     ]
    }
   ],
   "source": [
    "res = generator(prompt, max_length=50, do_sample=True, temperature=0.5)\n",
    "print(res[0]['generated_text'])"
   ]
  },
  {
   "cell_type": "code",
   "execution_count": 38,
   "id": "dbae80a4",
   "metadata": {},
   "outputs": [
    {
     "name": "stderr",
     "output_type": "stream",
     "text": [
      "Setting `pad_token_id` to `eos_token_id`:50256 for open-end generation.\n"
     ]
    },
    {
     "name": "stdout",
     "output_type": "stream",
     "text": [
      "Always deliver more than expected.\n",
      "\n",
      "The more you deliver, the more you get.\n",
      "\n",
      "The more you get, the more you deliver.\n",
      "\n",
      "The more you deliver, the more you get.\n",
      "\n",
      "The more you get, the\n"
     ]
    }
   ],
   "source": [
    "res = generator(prompt, max_length=50, do_sample=True, temperature=0.1)\n",
    "print(res[0]['generated_text'])"
   ]
  },
  {
   "cell_type": "code",
   "execution_count": 39,
   "id": "319114f8",
   "metadata": {},
   "outputs": [
    {
     "name": "stderr",
     "output_type": "stream",
     "text": [
      "Setting `pad_token_id` to `eos_token_id`:50256 for open-end generation.\n"
     ]
    },
    {
     "name": "stdout",
     "output_type": "stream",
     "text": [
      "Always deliver more than expected. Your content marketing strategy should contain more content than planned so you can sell your content to as many people as possible.\n",
      "\n",
      "Sell More Content With More Content\n",
      "\n",
      "Many content marketers overlook the fact that increasing your content\n"
     ]
    }
   ],
   "source": [
    "res = generator(prompt, max_length=50, do_sample=True, temperature=0.99)\n",
    "print(res[0]['generated_text'])"
   ]
  },
  {
   "cell_type": "code",
   "execution_count": 43,
   "id": "7fce6805",
   "metadata": {},
   "outputs": [],
   "source": [
    "# again:\n",
    "prompt = \"Crime and punishment\""
   ]
  },
  {
   "cell_type": "code",
   "execution_count": 46,
   "id": "7d23457d",
   "metadata": {},
   "outputs": [
    {
     "name": "stderr",
     "output_type": "stream",
     "text": [
      "Setting `pad_token_id` to `eos_token_id`:50256 for open-end generation.\n"
     ]
    },
    {
     "name": "stdout",
     "output_type": "stream",
     "text": [
      "Crime and punishment in the name of God, of love, and of the eternal life to come—that was my life until I met you. But life now is about taking our destiny into our own hands. And we will not just be a couple\n"
     ]
    }
   ],
   "source": [
    "res = generator(prompt, max_length=50, do_sample=True, temperature=0.9)\n",
    "print(res[0]['generated_text'])"
   ]
  },
  {
   "cell_type": "markdown",
   "id": "584269f5",
   "metadata": {},
   "source": [
    "Not all models are created equal though. The previous version (GPT2) produced less spectacular - no God and love:"
   ]
  },
  {
   "cell_type": "code",
   "execution_count": 47,
   "id": "6e038446",
   "metadata": {},
   "outputs": [],
   "source": [
    "# From Task Summary page of HF https://huggingface.co/transformers/task_summary.html\n",
    "text_generator = pipeline(\"text-generation\") #GPT 2"
   ]
  },
  {
   "cell_type": "code",
   "execution_count": 48,
   "id": "b4268f0a",
   "metadata": {},
   "outputs": [
    {
     "name": "stderr",
     "output_type": "stream",
     "text": [
      "Setting `pad_token_id` to `eos_token_id`:50256 for open-end generation.\n"
     ]
    },
    {
     "name": "stdout",
     "output_type": "stream",
     "text": [
      "[{'generated_text': 'Crime and punishment.\\n\\nThe government has also been accused of failing to take into account the needs of the poor and the vulnerable.\\n\\nThe government has also been accused of failing to take into account the needs of the poor and the vulnerable.'}]\n"
     ]
    }
   ],
   "source": [
    "prompt = \"Crime and punishment\"\n",
    "print(text_generator(prompt, max_length=50, do_sample=False))"
   ]
  },
  {
   "cell_type": "code",
   "execution_count": 49,
   "id": "88c5bc80",
   "metadata": {},
   "outputs": [
    {
     "name": "stderr",
     "output_type": "stream",
     "text": [
      "Setting `pad_token_id` to `eos_token_id`:50256 for open-end generation.\n"
     ]
    },
    {
     "name": "stdout",
     "output_type": "stream",
     "text": [
      "[{'generated_text': 'Crime and punishment.\\n\\nThe government has also been accused of failing to take into account the needs of the poor and the vulnerable.\\n\\nThe government has also been accused of failing to take into account the needs of the poor and the vulnerable.'}]\n"
     ]
    }
   ],
   "source": [
    "prompt = \"Crime and punishment\"\n",
    "print(text_generator(prompt, max_length=50, do_sample=False))"
   ]
  },
  {
   "cell_type": "code",
   "execution_count": 50,
   "id": "ef368945",
   "metadata": {},
   "outputs": [
    {
     "name": "stderr",
     "output_type": "stream",
     "text": [
      "Setting `pad_token_id` to `eos_token_id`:50256 for open-end generation.\n"
     ]
    },
    {
     "name": "stdout",
     "output_type": "stream",
     "text": [
      "[{'generated_text': 'Practice makes perfect.\\n\\nThe first thing you need to do is to make sure you have a good understanding of the game. You need to know how to play the game. You need to know how to play the game. You need to'}]\n"
     ]
    }
   ],
   "source": [
    "prompt = 'Practice makes perfect.'\n",
    "print(text_generator(prompt, max_length=50, do_sample=False))"
   ]
  },
  {
   "cell_type": "code",
   "execution_count": 51,
   "id": "1d041c26",
   "metadata": {},
   "outputs": [
    {
     "name": "stderr",
     "output_type": "stream",
     "text": [
      "Setting `pad_token_id` to `eos_token_id`:50256 for open-end generation.\n"
     ]
    },
    {
     "name": "stdout",
     "output_type": "stream",
     "text": [
      "[{'generated_text': 'Practice makes perfect.\\n\\nThe first thing you need to do is to make sure you have a good understanding of the game. You need to know how to play the game. You need to know how to play the game. You need to'}]\n"
     ]
    }
   ],
   "source": [
    "prompt = 'Practice makes perfect.'\n",
    "print(text_generator(prompt, max_length=50, do_sample=False))"
   ]
  },
  {
   "cell_type": "code",
   "execution_count": 52,
   "id": "279f345a",
   "metadata": {},
   "outputs": [
    {
     "name": "stderr",
     "output_type": "stream",
     "text": [
      "Setting `pad_token_id` to `eos_token_id`:50256 for open-end generation.\n"
     ]
    },
    {
     "name": "stdout",
     "output_type": "stream",
     "text": [
      "[{'generated_text': 'That which does not kill us makes us stronger.\\n\\nThe only thing that can kill us is the power of the mind.\\n\\nThe only thing that can kill us is the power of the mind.\\n\\nThe only thing that can kill'}]\n"
     ]
    }
   ],
   "source": [
    "prompt = 'That which does not kill us makes us stronger.'\n",
    "print(text_generator(prompt, max_length=50, do_sample=False))"
   ]
  },
  {
   "cell_type": "code",
   "execution_count": 53,
   "id": "f6acce31",
   "metadata": {},
   "outputs": [
    {
     "name": "stderr",
     "output_type": "stream",
     "text": [
      "Setting `pad_token_id` to `eos_token_id`:50256 for open-end generation.\n"
     ]
    },
    {
     "name": "stdout",
     "output_type": "stream",
     "text": [
      "[{'generated_text': 'That which does not kill us makes us stronger.\\n\\nThe only thing that can kill us is the power of the mind.\\n\\nThe only thing that can kill us is the power of the mind.\\n\\nThe only thing that can kill'}]\n"
     ]
    }
   ],
   "source": [
    "prompt = 'That which does not kill us makes us stronger.'\n",
    "print(text_generator(prompt, max_length=50, do_sample=False))"
   ]
  },
  {
   "cell_type": "markdown",
   "id": "a8438194",
   "metadata": {},
   "source": [
    "Very repetitive..."
   ]
  },
  {
   "cell_type": "code",
   "execution_count": null,
   "id": "93f9b854",
   "metadata": {},
   "outputs": [],
   "source": []
  }
 ],
 "metadata": {
  "kernelspec": {
   "display_name": "Python 3",
   "language": "python",
   "name": "python3"
  },
  "language_info": {
   "codemirror_mode": {
    "name": "ipython",
    "version": 3
   },
   "file_extension": ".py",
   "mimetype": "text/x-python",
   "name": "python",
   "nbconvert_exporter": "python",
   "pygments_lexer": "ipython3",
   "version": "3.8.8"
  }
 },
 "nbformat": 4,
 "nbformat_minor": 5
}
